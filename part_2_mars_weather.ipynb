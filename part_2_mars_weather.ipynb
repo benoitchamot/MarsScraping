{
 "cells": [
  {
   "attachments": {},
   "cell_type": "markdown",
   "metadata": {},
   "source": [
    "# Module 11 Challenge\n",
    "## Deliverable 2: Scrape and Analyse Mars Weather Data"
   ]
  },
  {
   "cell_type": "code",
   "execution_count": 21,
   "metadata": {},
   "outputs": [],
   "source": [
    "# Import relevant libraries\n",
    "from splinter import Browser\n",
    "from bs4 import BeautifulSoup\n",
    "import matplotlib.pyplot as plt\n",
    "import pandas as pd\n",
    "from pathlib import Path"
   ]
  },
  {
   "cell_type": "code",
   "execution_count": null,
   "metadata": {},
   "outputs": [],
   "source": [
    "# Open automated browser\n",
    "browser = Browser('chrome')"
   ]
  },
  {
   "attachments": {},
   "cell_type": "markdown",
   "metadata": {},
   "source": [
    "### Step 1: Visit the Website\n",
    "\n",
    "Use automated browsing to visit the [Mars Temperature Data Site](https://static.bc-edx.com/data/web/mars_facts/temperature.html). Inspect the page to identify which elements to scrape.\n"
   ]
  },
  {
   "cell_type": "code",
   "execution_count": null,
   "metadata": {},
   "outputs": [],
   "source": [
    "# Visit the website\n",
    "url = 'https://static.bc-edx.com/data/web/mars_facts/temperature.html'\n",
    "browser.visit(url)"
   ]
  },
  {
   "attachments": {},
   "cell_type": "markdown",
   "metadata": {},
   "source": [
    "### Step 2: Scrape the Table\n",
    "\n",
    "Create a Beautiful Soup object and use it to scrape the data in the HTML table.\n",
    "\n",
    "Note that this can also be achieved by using the Pandas `read_html` function. However, use Beautiful Soup here to continue sharpening your web scraping skills."
   ]
  },
  {
   "cell_type": "code",
   "execution_count": null,
   "metadata": {},
   "outputs": [],
   "source": [
    "# Create a Beautiful Soup Object\n",
    "html = browser.html\n",
    "soup = BeautifulSoup(html, 'html.parser')"
   ]
  },
  {
   "cell_type": "code",
   "execution_count": null,
   "metadata": {},
   "outputs": [],
   "source": [
    "# Extract all rows of data\n",
    "table = soup.find('table', class_='table')\n",
    "\n",
    "# Find the header elements in the table\n",
    "header = table.find_all('th')\n",
    "\n",
    "# Create an empty list for the column names (header elements)\n",
    "columns = []\n",
    "\n",
    "# Loop through all the elements of the header\n",
    "for i in range(len(header)):\n",
    "    # Add the elements to the header string, with a comma\n",
    "    columns.append(header[i].text)\n",
    "# Print all the header elements, including the last one\n",
    "print(f\"Columns: {columns}\")"
   ]
  },
  {
   "attachments": {},
   "cell_type": "markdown",
   "metadata": {},
   "source": [
    "### Step 3: Store the Data\n",
    "\n",
    "Assemble the scraped data into a Pandas DataFrame. The columns should have the same headings as the table on the website. Here’s an explanation of the column headings:\n",
    "\n",
    "* `id`: the identification number of a single transmission from the Curiosity rover\n",
    "* `terrestrial_date`: the date on Earth\n",
    "* `sol`: the number of elapsed sols (Martian days) since Curiosity landed on Mars\n",
    "* `ls`: the solar longitude\n",
    "* `month`: the Martian month\n",
    "* `min_temp`: the minimum temperature, in Celsius, of a single Martian day (sol)\n",
    "* `pressure`: The atmospheric pressure at Curiosity's location"
   ]
  },
  {
   "cell_type": "code",
   "execution_count": null,
   "metadata": {},
   "outputs": [],
   "source": [
    "# Find all the rows (class data-row to ignore header)\n",
    "data_rows = table.find_all('tr', class_ = 'data-row')\n",
    "\n",
    "# Create an empty list\n",
    "data_dicts = []\n",
    "\n",
    "# Loop through all the rwos\n",
    "for row in data_rows:\n",
    "    # Find all row elementt\n",
    "    data = row.find_all('td')\n",
    "\n",
    "    # Create an empty dictionary for the row elements\n",
    "    data_row = {}\n",
    "\n",
    "    # Loop through all the columns\n",
    "    for i in range(len(columns)):\n",
    "        # Add the row element to the dictionary, indexed by column name\n",
    "        data_row[columns[i]] = data[i].text\n",
    "\n",
    "    data_dicts.append(data_row)"
   ]
  },
  {
   "cell_type": "code",
   "execution_count": null,
   "metadata": {},
   "outputs": [],
   "source": [
    "# Create a Pandas DataFrame by using the list of rows and a list of the column names\n",
    "weather_df = pd.DataFrame(data_dicts)\n",
    "weather_df"
   ]
  },
  {
   "cell_type": "code",
   "execution_count": null,
   "metadata": {},
   "outputs": [],
   "source": [
    "# With all the data saved in the DataFrame, the browser cab be closed\n",
    "browser.quit()"
   ]
  },
  {
   "attachments": {},
   "cell_type": "markdown",
   "metadata": {},
   "source": [
    "### Step 4: Prepare Data for Analysis\n",
    "\n",
    "Examine the data types that are currently associated with each column. If necessary, cast (or convert) the data to the appropriate `datetime`, `int`, or `float` data types.\n"
   ]
  },
  {
   "cell_type": "code",
   "execution_count": null,
   "metadata": {},
   "outputs": [],
   "source": [
    "# Examine data type of each column\n",
    "weather_df.dtypes"
   ]
  },
  {
   "cell_type": "code",
   "execution_count": null,
   "metadata": {},
   "outputs": [],
   "source": [
    "# Change data types for data analysis\n",
    "# Numerical types\n",
    "clean_weather_df = weather_df.astype({'sol': 'int',\n",
    "                                    'ls': 'int',\n",
    "                                    'month': 'int',\n",
    "                                    'min_temp': 'float',\n",
    "                                    'pressure': 'float'})\n",
    "\n",
    "# Datetime types\n",
    "clean_weather_df['terrestrial_date'] = pd.to_datetime(weather_df['terrestrial_date'], format='%Y-%m-%d')"
   ]
  },
  {
   "cell_type": "code",
   "execution_count": null,
   "metadata": {},
   "outputs": [],
   "source": [
    "# Confirm type changes were successful by examining data types again\n",
    "clean_weather_df.dtypes"
   ]
  },
  {
   "cell_type": "markdown",
   "metadata": {},
   "source": [
    "### Step 4.1: Save the Data\n",
    "\n",
    "Export the DataFrame to a CSV file."
   ]
  },
  {
   "cell_type": "code",
   "execution_count": null,
   "metadata": {},
   "outputs": [],
   "source": [
    "# Write the data to a CSV\n",
    "csvfile = Path('Cleaned_Data/clean_weather_data.csv')\n",
    "clean_weather_df.to_csv(csvfile, index=False)"
   ]
  },
  {
   "cell_type": "markdown",
   "metadata": {},
   "source": [
    "### Step 4.2: Import Cleaned Data from CSV\n",
    "Instead of completing the scraping and cleaning process again, the data can be loaded directly from the CSV file. If the file does not exist, or the DataFrame cannot be loaded, an error message will be displayed and it will be necessary to rerun all the steps above.\n",
    "\n",
    "Even if the file do exist, please make sure to run the first cell in this notebook to import the necessary dependencies before running the code below."
   ]
  },
  {
   "cell_type": "code",
   "execution_count": 22,
   "metadata": {},
   "outputs": [
    {
     "name": "stdout",
     "output_type": "stream",
     "text": [
      "DataFrame succesfully loaded. Please proceed.\n"
     ]
    },
    {
     "data": {
      "text/html": [
       "<div>\n",
       "<style scoped>\n",
       "    .dataframe tbody tr th:only-of-type {\n",
       "        vertical-align: middle;\n",
       "    }\n",
       "\n",
       "    .dataframe tbody tr th {\n",
       "        vertical-align: top;\n",
       "    }\n",
       "\n",
       "    .dataframe thead th {\n",
       "        text-align: right;\n",
       "    }\n",
       "</style>\n",
       "<table border=\"1\" class=\"dataframe\">\n",
       "  <thead>\n",
       "    <tr style=\"text-align: right;\">\n",
       "      <th></th>\n",
       "      <th>id</th>\n",
       "      <th>terrestrial_date</th>\n",
       "      <th>sol</th>\n",
       "      <th>ls</th>\n",
       "      <th>month</th>\n",
       "      <th>min_temp</th>\n",
       "      <th>pressure</th>\n",
       "    </tr>\n",
       "  </thead>\n",
       "  <tbody>\n",
       "    <tr>\n",
       "      <th>0</th>\n",
       "      <td>2</td>\n",
       "      <td>2012-08-16</td>\n",
       "      <td>10</td>\n",
       "      <td>155</td>\n",
       "      <td>6</td>\n",
       "      <td>-75.0</td>\n",
       "      <td>739.0</td>\n",
       "    </tr>\n",
       "    <tr>\n",
       "      <th>1</th>\n",
       "      <td>13</td>\n",
       "      <td>2012-08-17</td>\n",
       "      <td>11</td>\n",
       "      <td>156</td>\n",
       "      <td>6</td>\n",
       "      <td>-76.0</td>\n",
       "      <td>740.0</td>\n",
       "    </tr>\n",
       "    <tr>\n",
       "      <th>2</th>\n",
       "      <td>24</td>\n",
       "      <td>2012-08-18</td>\n",
       "      <td>12</td>\n",
       "      <td>156</td>\n",
       "      <td>6</td>\n",
       "      <td>-76.0</td>\n",
       "      <td>741.0</td>\n",
       "    </tr>\n",
       "    <tr>\n",
       "      <th>3</th>\n",
       "      <td>35</td>\n",
       "      <td>2012-08-19</td>\n",
       "      <td>13</td>\n",
       "      <td>157</td>\n",
       "      <td>6</td>\n",
       "      <td>-74.0</td>\n",
       "      <td>732.0</td>\n",
       "    </tr>\n",
       "    <tr>\n",
       "      <th>4</th>\n",
       "      <td>46</td>\n",
       "      <td>2012-08-20</td>\n",
       "      <td>14</td>\n",
       "      <td>157</td>\n",
       "      <td>6</td>\n",
       "      <td>-74.0</td>\n",
       "      <td>740.0</td>\n",
       "    </tr>\n",
       "    <tr>\n",
       "      <th>...</th>\n",
       "      <td>...</td>\n",
       "      <td>...</td>\n",
       "      <td>...</td>\n",
       "      <td>...</td>\n",
       "      <td>...</td>\n",
       "      <td>...</td>\n",
       "      <td>...</td>\n",
       "    </tr>\n",
       "    <tr>\n",
       "      <th>1862</th>\n",
       "      <td>1889</td>\n",
       "      <td>2018-02-23</td>\n",
       "      <td>1973</td>\n",
       "      <td>133</td>\n",
       "      <td>5</td>\n",
       "      <td>-78.0</td>\n",
       "      <td>730.0</td>\n",
       "    </tr>\n",
       "    <tr>\n",
       "      <th>1863</th>\n",
       "      <td>1892</td>\n",
       "      <td>2018-02-24</td>\n",
       "      <td>1974</td>\n",
       "      <td>134</td>\n",
       "      <td>5</td>\n",
       "      <td>-77.0</td>\n",
       "      <td>729.0</td>\n",
       "    </tr>\n",
       "    <tr>\n",
       "      <th>1864</th>\n",
       "      <td>1894</td>\n",
       "      <td>2018-02-25</td>\n",
       "      <td>1975</td>\n",
       "      <td>134</td>\n",
       "      <td>5</td>\n",
       "      <td>-76.0</td>\n",
       "      <td>729.0</td>\n",
       "    </tr>\n",
       "    <tr>\n",
       "      <th>1865</th>\n",
       "      <td>1893</td>\n",
       "      <td>2018-02-26</td>\n",
       "      <td>1976</td>\n",
       "      <td>135</td>\n",
       "      <td>5</td>\n",
       "      <td>-77.0</td>\n",
       "      <td>728.0</td>\n",
       "    </tr>\n",
       "    <tr>\n",
       "      <th>1866</th>\n",
       "      <td>1895</td>\n",
       "      <td>2018-02-27</td>\n",
       "      <td>1977</td>\n",
       "      <td>135</td>\n",
       "      <td>5</td>\n",
       "      <td>-77.0</td>\n",
       "      <td>727.0</td>\n",
       "    </tr>\n",
       "  </tbody>\n",
       "</table>\n",
       "<p>1867 rows × 7 columns</p>\n",
       "</div>"
      ],
      "text/plain": [
       "        id terrestrial_date   sol   ls  month  min_temp  pressure\n",
       "0        2       2012-08-16    10  155      6     -75.0     739.0\n",
       "1       13       2012-08-17    11  156      6     -76.0     740.0\n",
       "2       24       2012-08-18    12  156      6     -76.0     741.0\n",
       "3       35       2012-08-19    13  157      6     -74.0     732.0\n",
       "4       46       2012-08-20    14  157      6     -74.0     740.0\n",
       "...    ...              ...   ...  ...    ...       ...       ...\n",
       "1862  1889       2018-02-23  1973  133      5     -78.0     730.0\n",
       "1863  1892       2018-02-24  1974  134      5     -77.0     729.0\n",
       "1864  1894       2018-02-25  1975  134      5     -76.0     729.0\n",
       "1865  1893       2018-02-26  1976  135      5     -77.0     728.0\n",
       "1866  1895       2018-02-27  1977  135      5     -77.0     727.0\n",
       "\n",
       "[1867 rows x 7 columns]"
      ]
     },
     "metadata": {},
     "output_type": "display_data"
    }
   ],
   "source": [
    "try:\n",
    "    csvfile = Path('Cleaned_Data/clean_weather_data.csv')\n",
    "    weather_df = pd.read_csv(csvfile)\n",
    "    print('DataFrame succesfully loaded. Please proceed.')\n",
    "\n",
    "    # Change data types for data analysis\n",
    "    # Numerical types\n",
    "    clean_weather_df = weather_df.astype({'sol': 'int',\n",
    "                                    'ls': 'int',\n",
    "                                    'month': 'int',\n",
    "                                    'min_temp': 'float',\n",
    "                                    'pressure': 'float'})\n",
    "\n",
    "    # Datetime types\n",
    "    clean_weather_df['terrestrial_date'] = pd.to_datetime(weather_df['terrestrial_date'], format='%Y-%m-%d')\n",
    "\n",
    "    display(clean_weather_df)\n",
    "except Exception as inst:\n",
    "    print(f\"Error: {inst}\")\n",
    "    print('Pleae restart the kernel and run all cells in this notebook.')"
   ]
  },
  {
   "cell_type": "code",
   "execution_count": 24,
   "metadata": {},
   "outputs": [
    {
     "data": {
      "text/plain": [
       "id                           int64\n",
       "terrestrial_date    datetime64[ns]\n",
       "sol                          int32\n",
       "ls                           int32\n",
       "month                        int32\n",
       "min_temp                   float64\n",
       "pressure                   float64\n",
       "dtype: object"
      ]
     },
     "execution_count": 24,
     "metadata": {},
     "output_type": "execute_result"
    }
   ],
   "source": [
    "# Confirm type changes were successful after import by examining data types again\n",
    "clean_weather_df.dtypes"
   ]
  },
  {
   "attachments": {},
   "cell_type": "markdown",
   "metadata": {},
   "source": [
    "### Step 5: Analyse the Data\n",
    "\n",
    "Analyse your dataset by using Pandas functions to answer questions."
   ]
  },
  {
   "cell_type": "markdown",
   "metadata": {},
   "source": [
    "**1. How many months exist on Mars?**"
   ]
  },
  {
   "cell_type": "code",
   "execution_count": 26,
   "metadata": {},
   "outputs": [
    {
     "name": "stdout",
     "output_type": "stream",
     "text": [
      "There are 12 months on Mars.\n"
     ]
    },
    {
     "data": {
      "text/plain": [
       "1     174\n",
       "2     178\n",
       "3     192\n",
       "4     194\n",
       "5     149\n",
       "6     147\n",
       "7     142\n",
       "8     141\n",
       "9     134\n",
       "10    112\n",
       "11    138\n",
       "12    166\n",
       "Name: month, dtype: int64"
      ]
     },
     "execution_count": 26,
     "metadata": {},
     "output_type": "execute_result"
    }
   ],
   "source": [
    "# Count the number of unique value in the month column\n",
    "num_of_months = clean_weather_df['month'].nunique()\n",
    "print(f\"There are {num_of_months} months on Mars.\")\n",
    "\n",
    "# Display the number of occurences of each month (sorted by month number)\n",
    "clean_weather_df['month'].value_counts().sort_index()"
   ]
  },
  {
   "cell_type": "markdown",
   "metadata": {},
   "source": [
    "**2. How many Martian (and not Earth) days worth of data exist in the scraped dataset?**"
   ]
  },
  {
   "cell_type": "code",
   "execution_count": 29,
   "metadata": {},
   "outputs": [
    {
     "name": "stdout",
     "output_type": "stream",
     "text": [
      "There are 1867 Martian days (sols) worth of data (distinct values)\n",
      "There are 1867 Martian days (sols) worth of data\n"
     ]
    }
   ],
   "source": [
    "# Count the number of sols in the dataset\n",
    "# NOTE: .nunique() and .count() return the same number \n",
    "num_of_sols = clean_weather_df['sol'].nunique()\n",
    "print(f\"There are {num_of_sols} Martian days (sols) worth of data (distinct values)\")\n",
    "\n",
    "num_of_sols = clean_weather_df['sol'].count()\n",
    "print(f\"There are {num_of_sols} Martian days (sols) worth of data\")"
   ]
  },
  {
   "cell_type": "markdown",
   "metadata": {},
   "source": [
    "**3. What are the coldest and the warmest months on Mars (at the location of Curiosity)? To answer this question:**\n",
    "    \n",
    "    * Find the average the minimum daily temperature for all of the months.\n",
    "    * Plot the results as a bar chart."
   ]
  },
  {
   "cell_type": "code",
   "execution_count": 31,
   "metadata": {},
   "outputs": [
    {
     "data": {
      "text/plain": [
       "month\n",
       "1    -77.160920\n",
       "2    -79.932584\n",
       "3    -83.307292\n",
       "4    -82.747423\n",
       "5    -79.308725\n",
       "6    -75.299320\n",
       "7    -72.281690\n",
       "8    -68.382979\n",
       "9    -69.171642\n",
       "10   -71.982143\n",
       "11   -71.985507\n",
       "12   -74.451807\n",
       "Name: min_temp, dtype: float64"
      ]
     },
     "metadata": {},
     "output_type": "display_data"
    },
    {
     "data": {
      "image/png": "[encoded data removed]",
      "text/plain": [
       "<Figure size 640x480 with 1 Axes>"
      ]
     },
     "metadata": {},
     "output_type": "display_data"
    },
    {
     "data": {
      "image/png": "[encoded data removed]",
      "text/plain": [
       "<Figure size 640x480 with 1 Axes>"
      ]
     },
     "metadata": {},
     "output_type": "display_data"
    }
   ],
   "source": [
    "# Group the data by month, caclulate the mean low temperature and return only the temperature column\n",
    "avg_temp_per_month = clean_weather_df.groupby(['month']).mean('min_temp')['min_temp']\n",
    "display(avg_temp_per_month)\n",
    "\n",
    "# Plot the average temperature by month\n",
    "avg_temp_per_month.plot.bar('min_temp', title = 'Average low temperature', ylabel = 'temperature [degC]')\n",
    "\n",
    "# Save image as PNG\n",
    "plt.savefig('Output/avg_temp_per_month.png')\n",
    "\n",
    "# Show plot\n",
    "plt.show()\n",
    "\n",
    "# Sort the temperature values from lowest to hottest\n",
    "avg_temp_per_month_sorted = avg_temp_per_month.sort_values()\n",
    "\n",
    "# Plot the average temperature by month (sorted from low to high)\n",
    "avg_temp_per_month_sorted.plot.bar('min_temp', title = 'Average low temperature (low to high)', ylabel = 'temperature [degC]')\n",
    "\n",
    "# Save image as PNG\n",
    "plt.savefig('Output/avg_temp_per_month_sorted.png')\n",
    "\n",
    "# Show plot\n",
    "plt.show()"
   ]
  },
  {
   "cell_type": "markdown",
   "metadata": {},
   "source": [
    "**4. Which months have the lowest and the highest atmospheric pressure on Mars? To answer this question:**\n",
    "\n",
    "    * Find the average the daily atmospheric pressure of all the months.\n",
    "    * Plot the results as a bar chart."
   ]
  },
  {
   "cell_type": "code",
   "execution_count": 32,
   "metadata": {},
   "outputs": [
    {
     "data": {
      "text/plain": [
       "month\n",
       "1     862.488506\n",
       "2     889.455056\n",
       "3     877.322917\n",
       "4     806.329897\n",
       "5     748.557047\n",
       "6     745.054422\n",
       "7     795.105634\n",
       "8     873.829787\n",
       "9     913.305970\n",
       "10    887.312500\n",
       "11    857.014493\n",
       "12    842.156627\n",
       "Name: pressure, dtype: float64"
      ]
     },
     "metadata": {},
     "output_type": "display_data"
    },
    {
     "data": {
      "image/png": "[encoded data removed]",
      "text/plain": [
       "<Figure size 640x480 with 1 Axes>"
      ]
     },
     "metadata": {},
     "output_type": "display_data"
    },
    {
     "data": {
      "image/png": "[encoded data removed]",
      "text/plain": [
       "<Figure size 640x480 with 1 Axes>"
      ]
     },
     "metadata": {},
     "output_type": "display_data"
    }
   ],
   "source": [
    "# Group the data by month, caclulate the mean pressure and return only the pressure column\n",
    "avg_press_per_month = clean_weather_df.groupby(['month']).mean('pressure')['pressure']\n",
    "display(avg_press_per_month)\n",
    "\n",
    "# Plot the average pressure by month\n",
    "avg_press_per_month.plot.bar('min_temp', title = 'Average pressure', ylabel = 'atmospheric pressure')\n",
    "\n",
    "# Save image as PNG\n",
    "plt.savefig('Output/avg_press_per_month.png')\n",
    "\n",
    "# Show plot\n",
    "plt.show()\n",
    "\n",
    "# Identify the lowest and highest pressure\n",
    "avg_press_per_month_sorted = avg_press_per_month.sort_values()\n",
    "\n",
    "# Plot the average pressure by month (sorted from low to high)\n",
    "avg_press_per_month_sorted.plot.bar('min_temp', title = 'Average pressure (low to high)', ylabel = 'atmospheric pressure')\n",
    "\n",
    "# Save image as PNG\n",
    "plt.savefig('Output/avg_press_per_month_sorted.png')\n",
    "\n",
    "# Show plot\n",
    "plt.show()"
   ]
  },
  {
   "cell_type": "markdown",
   "metadata": {},
   "source": [
    "**5. About how many terrestrial (Earth) days exist in a Martian year? To answer this question:**\n",
    "\n",
    "    * Consider how many days elapse on Earth in the time that Mars circles the Sun once.\n",
    "    * Visually estimate the result by plotting the daily minimum temperature."
   ]
  },
  {
   "cell_type": "code",
   "execution_count": 41,
   "metadata": {},
   "outputs": [
    {
     "name": "stdout",
     "output_type": "stream",
     "text": [
      "Start day: 2012-08-16 00:00:00\n",
      "Start day: 2018-02-27 00:00:00\n",
      "Mission duration: 2021 terrestrial days\n",
      "\n",
      "Number of days between peaks: ~680\n",
      "Error compared to real value (687 days): -1.02%\n"
     ]
    },
    {
     "data": {
      "image/png": "[encoded data removed]",
      "text/plain": [
       "<Figure size 640x480 with 1 Axes>"
      ]
     },
     "metadata": {},
     "output_type": "display_data"
    }
   ],
   "source": [
    "# Create a new DataFrame with a subset of columns for this question\n",
    "daily_temperature = clean_weather_df[['terrestrial_date', 'sol', 'min_temp']]\n",
    "\n",
    "# Get the first and last dates of the missions (based on the available data)\n",
    "first_day = daily_temperature['terrestrial_date'].min()\n",
    "last_day = daily_temperature['terrestrial_date'].max()\n",
    "\n",
    "# Print the first and last mission days\n",
    "print(f\"Start day: {first_day}\")\n",
    "print(f\"Start day: {last_day}\")\n",
    "\n",
    "# Calculate the number of terrestrial days elapsed over the mission duration\n",
    "delta = last_day - first_day\n",
    "num_of_days = delta.days\n",
    "\n",
    "# Print the mission duration (followed by an empty line)\n",
    "print(f\"Mission duration: {num_of_days} terrestrial days\")\n",
    "print()\n",
    "\n",
    "# Ignore warning caused by the creation of new column\n",
    "pd.set_option('mode.chained_assignment', None)\n",
    "\n",
    "# Create a new column in the DataFrame\n",
    "daily_temperature['Number of terrestrial days'] = 0\n",
    "\n",
    "# Iterate through the DataFrame\n",
    "for index, row in daily_temperature.iterrows():\n",
    "    # Calculate the number of days since the beginning of the mission and the date in the current row\n",
    "    delta = daily_temperature.loc[index,'terrestrial_date'] - first_day\n",
    "\n",
    "    # Save the number of elapsed days in the new column\n",
    "    daily_temperature.loc[index,'Number of terrestrial days'] = delta.days\n",
    "\n",
    "# Plot the temperature vs the number of terrestrial days since the beginning of the mission\n",
    "daily_temperature.plot('Number of terrestrial days', 'min_temp', grid = True, title = 'Daily low temperatures', ylabel = 'Temperature (degC)', legend = False)\n",
    "\n",
    "# Manually estimate peak to peak distance (in days)\n",
    "# These values are hard coded and may be changed within the code here\n",
    "peak_1_day = 820\n",
    "peak_2_day = 1500\n",
    "\n",
    "# Calculate the min and max temperature (used only to draw the vertical lines)\n",
    "min_temp = daily_temperature['min_temp'].min()\n",
    "max_temp = daily_temperature['min_temp'].max()\n",
    "\n",
    "# Plot vertical lines to highlight the peaks\n",
    "plt.vlines(peak_1_day,min_temp, max_temp, 'r')\n",
    "plt.vlines(peak_2_day,min_temp, max_temp, 'r')\n",
    "\n",
    "# Calculate the number of days between peaks\n",
    "peak_to_peak = peak_2_day-peak_1_day\n",
    "print(f\"Number of days between peaks: ~{peak_to_peak}\")\n",
    "\n",
    "# Compare to real value\n",
    "mars_year = 687\n",
    "print(f\"Error compared to real value ({mars_year} days): {100*(peak_to_peak-mars_year)/mars_year:.2f}%\")\n",
    "\n",
    "# Save image as PNG\n",
    "plt.savefig('Output/daily_temperature.png')\n",
    "\n",
    "# Show plot\n",
    "plt.show()"
   ]
  },
  {
   "cell_type": "markdown",
   "metadata": {},
   "source": [
    "**Duration of a martian day**\n",
    "\n",
    "This question is not part of the assignment and is only looked at here out of curiosity."
   ]
  },
  {
   "cell_type": "code",
   "execution_count": 35,
   "metadata": {},
   "outputs": [
    {
     "name": "stdout",
     "output_type": "stream",
     "text": [
      "A martian day is 24 hours and 39.5 minutes\n"
     ]
    }
   ],
   "source": [
    "# Calculate the number of sols elapsed over the mission duration\n",
    "sol_num = daily_temperature['sol'].max() - daily_temperature['sol'].min()\n",
    "\n",
    "# Calculate the number of days elapsed over the mission duration\n",
    "day_num = daily_temperature['Number of terrestrial days'].max() - daily_temperature['Number of terrestrial days'].min()\n",
    "\n",
    "# Calculate the duration of a martian days in hours\n",
    "print(f\"A martian day is {int(24*day_num/sol_num)} hours and {round((24*day_num/sol_num % 24)*60,1)} minutes\")"
   ]
  }
 ],
 "metadata": {
  "kernelspec": {
   "display_name": "Python 3 (ipykernel)",
   "language": "python",
   "name": "python3"
  },
  "language_info": {
   "codemirror_mode": {
    "name": "ipython",
    "version": 3
   },
   "file_extension": ".py",
   "mimetype": "text/x-python",
   "name": "python",
   "nbconvert_exporter": "python",
   "pygments_lexer": "ipython3",
   "version": "3.10.11"
  },
  "vscode": {
   "interpreter": {
    "hash": "31f2aee4e71d21fbe5cf8b01ff0e069b9275f58929596ceb00d14d90e3e16cd6"
   }
  }
 },
 "nbformat": 4,
 "nbformat_minor": 4
}
